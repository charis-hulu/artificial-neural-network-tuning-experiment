{
  "nbformat": 4,
  "nbformat_minor": 0,
  "metadata": {
    "colab": {
      "name": "10101190129-Charis Christopher Hulu-PR9.ipynb",
      "provenance": []
    },
    "kernelspec": {
      "name": "python3",
      "display_name": "Python 3"
    },
    "language_info": {
      "name": "python"
    }
  },
  "cells": [
    {
      "cell_type": "markdown",
      "metadata": {
        "id": "YGKe-qhXkYwj"
      },
      "source": [
        "**Importing the libraries**"
      ]
    },
    {
      "cell_type": "code",
      "metadata": {
        "id": "ZLEMo6e0dJqD"
      },
      "source": [
        "import numpy as np\n",
        "import matplotlib.pyplot as plt"
      ],
      "execution_count": 2,
      "outputs": []
    },
    {
      "cell_type": "markdown",
      "metadata": {
        "id": "_Ly-qF_-kdix"
      },
      "source": [
        "**Importing the dataset**"
      ]
    },
    {
      "cell_type": "code",
      "metadata": {
        "colab": {
          "base_uri": "https://localhost:8080/"
        },
        "id": "5uMMUv-ikfK5",
        "outputId": "cbb28ddd-bd72-45b0-8420-ac370040a6fb"
      },
      "source": [
        "from keras.datasets import imdb\n",
        "(train_data, train_labels), (test_data, test_labels) = imdb.load_data(num_words=10000)"
      ],
      "execution_count": 3,
      "outputs": [
        {
          "output_type": "stream",
          "text": [
            "Downloading data from https://storage.googleapis.com/tensorflow/tf-keras-datasets/imdb.npz\n",
            "17465344/17464789 [==============================] - 0s 0us/step\n"
          ],
          "name": "stdout"
        },
        {
          "output_type": "stream",
          "text": [
            "<string>:6: VisibleDeprecationWarning: Creating an ndarray from ragged nested sequences (which is a list-or-tuple of lists-or-tuples-or ndarrays with different lengths or shapes) is deprecated. If you meant to do this, you must specify 'dtype=object' when creating the ndarray\n",
            "/usr/local/lib/python3.7/dist-packages/tensorflow/python/keras/datasets/imdb.py:159: VisibleDeprecationWarning: Creating an ndarray from ragged nested sequences (which is a list-or-tuple of lists-or-tuples-or ndarrays with different lengths or shapes) is deprecated. If you meant to do this, you must specify 'dtype=object' when creating the ndarray\n",
            "  x_train, y_train = np.array(xs[:idx]), np.array(labels[:idx])\n",
            "/usr/local/lib/python3.7/dist-packages/tensorflow/python/keras/datasets/imdb.py:160: VisibleDeprecationWarning: Creating an ndarray from ragged nested sequences (which is a list-or-tuple of lists-or-tuples-or ndarrays with different lengths or shapes) is deprecated. If you meant to do this, you must specify 'dtype=object' when creating the ndarray\n",
            "  x_test, y_test = np.array(xs[idx:]), np.array(labels[idx:])\n"
          ],
          "name": "stderr"
        }
      ]
    },
    {
      "cell_type": "code",
      "metadata": {
        "colab": {
          "base_uri": "https://localhost:8080/"
        },
        "id": "cEwkcvRzkg2j",
        "outputId": "64091696-dec1-423c-9dac-7c097eb9a4ed"
      },
      "source": [
        "train_data"
      ],
      "execution_count": 4,
      "outputs": [
        {
          "output_type": "execute_result",
          "data": {
            "text/plain": [
              "array([list([1, 14, 22, 16, 43, 530, 973, 1622, 1385, 65, 458, 4468, 66, 3941, 4, 173, 36, 256, 5, 25, 100, 43, 838, 112, 50, 670, 2, 9, 35, 480, 284, 5, 150, 4, 172, 112, 167, 2, 336, 385, 39, 4, 172, 4536, 1111, 17, 546, 38, 13, 447, 4, 192, 50, 16, 6, 147, 2025, 19, 14, 22, 4, 1920, 4613, 469, 4, 22, 71, 87, 12, 16, 43, 530, 38, 76, 15, 13, 1247, 4, 22, 17, 515, 17, 12, 16, 626, 18, 2, 5, 62, 386, 12, 8, 316, 8, 106, 5, 4, 2223, 5244, 16, 480, 66, 3785, 33, 4, 130, 12, 16, 38, 619, 5, 25, 124, 51, 36, 135, 48, 25, 1415, 33, 6, 22, 12, 215, 28, 77, 52, 5, 14, 407, 16, 82, 2, 8, 4, 107, 117, 5952, 15, 256, 4, 2, 7, 3766, 5, 723, 36, 71, 43, 530, 476, 26, 400, 317, 46, 7, 4, 2, 1029, 13, 104, 88, 4, 381, 15, 297, 98, 32, 2071, 56, 26, 141, 6, 194, 7486, 18, 4, 226, 22, 21, 134, 476, 26, 480, 5, 144, 30, 5535, 18, 51, 36, 28, 224, 92, 25, 104, 4, 226, 65, 16, 38, 1334, 88, 12, 16, 283, 5, 16, 4472, 113, 103, 32, 15, 16, 5345, 19, 178, 32]),\n",
              "       list([1, 194, 1153, 194, 8255, 78, 228, 5, 6, 1463, 4369, 5012, 134, 26, 4, 715, 8, 118, 1634, 14, 394, 20, 13, 119, 954, 189, 102, 5, 207, 110, 3103, 21, 14, 69, 188, 8, 30, 23, 7, 4, 249, 126, 93, 4, 114, 9, 2300, 1523, 5, 647, 4, 116, 9, 35, 8163, 4, 229, 9, 340, 1322, 4, 118, 9, 4, 130, 4901, 19, 4, 1002, 5, 89, 29, 952, 46, 37, 4, 455, 9, 45, 43, 38, 1543, 1905, 398, 4, 1649, 26, 6853, 5, 163, 11, 3215, 2, 4, 1153, 9, 194, 775, 7, 8255, 2, 349, 2637, 148, 605, 2, 8003, 15, 123, 125, 68, 2, 6853, 15, 349, 165, 4362, 98, 5, 4, 228, 9, 43, 2, 1157, 15, 299, 120, 5, 120, 174, 11, 220, 175, 136, 50, 9, 4373, 228, 8255, 5, 2, 656, 245, 2350, 5, 4, 9837, 131, 152, 491, 18, 2, 32, 7464, 1212, 14, 9, 6, 371, 78, 22, 625, 64, 1382, 9, 8, 168, 145, 23, 4, 1690, 15, 16, 4, 1355, 5, 28, 6, 52, 154, 462, 33, 89, 78, 285, 16, 145, 95]),\n",
              "       list([1, 14, 47, 8, 30, 31, 7, 4, 249, 108, 7, 4, 5974, 54, 61, 369, 13, 71, 149, 14, 22, 112, 4, 2401, 311, 12, 16, 3711, 33, 75, 43, 1829, 296, 4, 86, 320, 35, 534, 19, 263, 4821, 1301, 4, 1873, 33, 89, 78, 12, 66, 16, 4, 360, 7, 4, 58, 316, 334, 11, 4, 1716, 43, 645, 662, 8, 257, 85, 1200, 42, 1228, 2578, 83, 68, 3912, 15, 36, 165, 1539, 278, 36, 69, 2, 780, 8, 106, 14, 6905, 1338, 18, 6, 22, 12, 215, 28, 610, 40, 6, 87, 326, 23, 2300, 21, 23, 22, 12, 272, 40, 57, 31, 11, 4, 22, 47, 6, 2307, 51, 9, 170, 23, 595, 116, 595, 1352, 13, 191, 79, 638, 89, 2, 14, 9, 8, 106, 607, 624, 35, 534, 6, 227, 7, 129, 113]),\n",
              "       ...,\n",
              "       list([1, 11, 6, 230, 245, 6401, 9, 6, 1225, 446, 2, 45, 2174, 84, 8322, 4007, 21, 4, 912, 84, 2, 325, 725, 134, 2, 1715, 84, 5, 36, 28, 57, 1099, 21, 8, 140, 8, 703, 5, 2, 84, 56, 18, 1644, 14, 9, 31, 7, 4, 9406, 1209, 2295, 2, 1008, 18, 6, 20, 207, 110, 563, 12, 8, 2901, 2, 8, 97, 6, 20, 53, 4767, 74, 4, 460, 364, 1273, 29, 270, 11, 960, 108, 45, 40, 29, 2961, 395, 11, 6, 4065, 500, 7, 2, 89, 364, 70, 29, 140, 4, 64, 4780, 11, 4, 2678, 26, 178, 4, 529, 443, 2, 5, 27, 710, 117, 2, 8123, 165, 47, 84, 37, 131, 818, 14, 595, 10, 10, 61, 1242, 1209, 10, 10, 288, 2260, 1702, 34, 2901, 2, 4, 65, 496, 4, 231, 7, 790, 5, 6, 320, 234, 2766, 234, 1119, 1574, 7, 496, 4, 139, 929, 2901, 2, 7750, 5, 4241, 18, 4, 8497, 2, 250, 11, 1818, 7561, 4, 4217, 5408, 747, 1115, 372, 1890, 1006, 541, 9303, 7, 4, 59, 2, 4, 3586, 2]),\n",
              "       list([1, 1446, 7079, 69, 72, 3305, 13, 610, 930, 8, 12, 582, 23, 5, 16, 484, 685, 54, 349, 11, 4120, 2959, 45, 58, 1466, 13, 197, 12, 16, 43, 23, 2, 5, 62, 30, 145, 402, 11, 4131, 51, 575, 32, 61, 369, 71, 66, 770, 12, 1054, 75, 100, 2198, 8, 4, 105, 37, 69, 147, 712, 75, 3543, 44, 257, 390, 5, 69, 263, 514, 105, 50, 286, 1814, 23, 4, 123, 13, 161, 40, 5, 421, 4, 116, 16, 897, 13, 2, 40, 319, 5872, 112, 6700, 11, 4803, 121, 25, 70, 3468, 4, 719, 3798, 13, 18, 31, 62, 40, 8, 7200, 4, 2, 7, 14, 123, 5, 942, 25, 8, 721, 12, 145, 5, 202, 12, 160, 580, 202, 12, 6, 52, 58, 2, 92, 401, 728, 12, 39, 14, 251, 8, 15, 251, 5, 2, 12, 38, 84, 80, 124, 12, 9, 23]),\n",
              "       list([1, 17, 6, 194, 337, 7, 4, 204, 22, 45, 254, 8, 106, 14, 123, 4, 2, 270, 2, 5, 2, 2, 732, 2098, 101, 405, 39, 14, 1034, 4, 1310, 9, 115, 50, 305, 12, 47, 4, 168, 5, 235, 7, 38, 111, 699, 102, 7, 4, 4039, 9245, 9, 24, 6, 78, 1099, 17, 2345, 2, 21, 27, 9685, 6139, 5, 2, 1603, 92, 1183, 4, 1310, 7, 4, 204, 42, 97, 90, 35, 221, 109, 29, 127, 27, 118, 8, 97, 12, 157, 21, 6789, 2, 9, 6, 66, 78, 1099, 4, 631, 1191, 5, 2642, 272, 191, 1070, 6, 7585, 8, 2197, 2, 2, 544, 5, 383, 1271, 848, 1468, 2, 497, 2, 8, 1597, 8778, 2, 21, 60, 27, 239, 9, 43, 8368, 209, 405, 10, 10, 12, 764, 40, 4, 248, 20, 12, 16, 5, 174, 1791, 72, 7, 51, 6, 1739, 22, 4, 204, 131, 9])],\n",
              "      dtype=object)"
            ]
          },
          "metadata": {
            "tags": []
          },
          "execution_count": 4
        }
      ]
    },
    {
      "cell_type": "code",
      "metadata": {
        "colab": {
          "base_uri": "https://localhost:8080/"
        },
        "id": "GKJFeEgKkjWy",
        "outputId": "dff94341-defb-4eab-9659-1eb04225d7a0"
      },
      "source": [
        "train_labels"
      ],
      "execution_count": 5,
      "outputs": [
        {
          "output_type": "execute_result",
          "data": {
            "text/plain": [
              "array([1, 0, 0, ..., 0, 1, 0])"
            ]
          },
          "metadata": {
            "tags": []
          },
          "execution_count": 5
        }
      ]
    },
    {
      "cell_type": "markdown",
      "metadata": {
        "id": "ILECcR82klPd"
      },
      "source": [
        "**Vectorizing the dataset**"
      ]
    },
    {
      "cell_type": "code",
      "metadata": {
        "id": "LZLdUVg1kn9Q"
      },
      "source": [
        "def vectorize_sequences(sequences, dimension=10000):\n",
        "    # Create an all-zero matrix of shape (len(sequences), dimension)\n",
        "    results = np.zeros((len(sequences), dimension))\n",
        "    for i, sequence in enumerate(sequences):\n",
        "        results[i, sequence] = 1.  # set specific indices of results[i] to 1s\n",
        "    return results"
      ],
      "execution_count": 6,
      "outputs": []
    },
    {
      "cell_type": "code",
      "metadata": {
        "colab": {
          "base_uri": "https://localhost:8080/"
        },
        "id": "VnMoIAPFkpva",
        "outputId": "27f800d6-cbcd-45e8-be99-10cf9468f8f2"
      },
      "source": [
        "x_train = vectorize_sequences(train_data)\n",
        "x_train"
      ],
      "execution_count": 7,
      "outputs": [
        {
          "output_type": "execute_result",
          "data": {
            "text/plain": [
              "array([[0., 1., 1., ..., 0., 0., 0.],\n",
              "       [0., 1., 1., ..., 0., 0., 0.],\n",
              "       [0., 1., 1., ..., 0., 0., 0.],\n",
              "       ...,\n",
              "       [0., 1., 1., ..., 0., 0., 0.],\n",
              "       [0., 1., 1., ..., 0., 0., 0.],\n",
              "       [0., 1., 1., ..., 0., 0., 0.]])"
            ]
          },
          "metadata": {
            "tags": []
          },
          "execution_count": 7
        }
      ]
    },
    {
      "cell_type": "code",
      "metadata": {
        "colab": {
          "base_uri": "https://localhost:8080/"
        },
        "id": "XZ5x_1GskrHb",
        "outputId": "8806f697-62f1-4b14-9559-192473bcadca"
      },
      "source": [
        "y_train = np.asarray(train_labels).astype('float32')\n",
        "y_train"
      ],
      "execution_count": 8,
      "outputs": [
        {
          "output_type": "execute_result",
          "data": {
            "text/plain": [
              "array([1., 0., 0., ..., 0., 1., 0.], dtype=float32)"
            ]
          },
          "metadata": {
            "tags": []
          },
          "execution_count": 8
        }
      ]
    },
    {
      "cell_type": "code",
      "metadata": {
        "id": "eMyxHeaCks_6"
      },
      "source": [
        "x_val = x_train[:10000]\n",
        "partial_x_train = x_train[10000:]\n",
        "y_val = y_train[:10000]\n",
        "partial_y_train = y_train[10000:]"
      ],
      "execution_count": 10,
      "outputs": []
    },
    {
      "cell_type": "markdown",
      "metadata": {
        "id": "jQ23VnOskuRF"
      },
      "source": [
        "Berikut ini akan dilakukan beberapa percobaan untuk melihat dampak perubahan parameter ANN terhadap nilai loss, accuracy, validation loss, dan validation accuracy."
      ]
    },
    {
      "cell_type": "markdown",
      "metadata": {
        "id": "g1r6i5P_kxhS"
      },
      "source": [
        "<table>\n",
        "  <tr align=\"center\">\n",
        "    <th>Percobaan</th>\n",
        "    <th>Jumlah Epoch</th>\n",
        "    <th>Jumlah Hidden Layer</th>\n",
        "    <th>Jumlah Unit per Hidden Layer</th>\n",
        "    <th>Loss Function</th>\n",
        "    <th>Activation Function</th>\n",
        "    <th>Loss</th>\n",
        "    <th>Accuracy</th>\n",
        "    <th>Val_Loss</th>\n",
        "    <th>Val_Accuracy</th>\n",
        "  </tr>\n",
        "  <tr align=\"center\">\n",
        "    <td>1</td>\n",
        "    <td>20</td>\n",
        "    <td>2</td>\n",
        "    <td>16</td>\n",
        "    <td>binary_crossentropy</td>\n",
        "    <td>sigmoid</td>\n",
        "    <td>-</td>\n",
        "    <td>-</td>\n",
        "    <td>-</td>\n",
        "    <td>-</td>\n",
        "  </tr>\n",
        "  <tr align=\"center\">\n",
        "    <td>2</td>\n",
        "    <td>20</td>\n",
        "    <td>1</td>\n",
        "    <td>16</td>\n",
        "    <td>binary_crossentropy</td>\n",
        "    <td>sigmoid</td>\n",
        "    <td>-</td>\n",
        "    <td>-</td>\n",
        "    <td>-</td>\n",
        "    <td>-</td>\n",
        "  </tr>\n",
        "  <tr align=\"center\">\n",
        "    <td>3</td>\n",
        "    <td>20</td>\n",
        "    <td>3</td>\n",
        "    <td>16</td>\n",
        "    <td>binary_crossentropy</td>\n",
        "    <td>sigmoid</td>\n",
        "    <td>-</td>\n",
        "    <td>-</td>\n",
        "    <td>-</td>\n",
        "    <td>-</td>\n",
        "  </tr>\n",
        "  <tr align=\"center\">\n",
        "    <td>4</td>\n",
        "    <td>20</td>\n",
        "    <td>2</td>\n",
        "    <td>32</td>\n",
        "    <td>binary_crossentropy</td>\n",
        "    <td>sigmoid</td>\n",
        "    <td>-</td>\n",
        "    <td>-</td>\n",
        "    <td>-</td>\n",
        "    <td>-</td>\n",
        "  </tr>\n",
        "  <tr align=\"center\">\n",
        "    <td>5</td>\n",
        "    <td>20</td>\n",
        "    <td>2</td>\n",
        "    <td>64</td>\n",
        "    <td>binary_crossentropy</td>\n",
        "    <td>sigmoid</td>\n",
        "    <td>-</td>\n",
        "    <td>-</td>\n",
        "    <td>-</td>\n",
        "    <td>-</td>\n",
        "  </tr>\n",
        "  <tr align=\"center\">\n",
        "    <td>6</td>\n",
        "    <td>20</td>\n",
        "    <td>2</td>\n",
        "    <td>16</td>\n",
        "    <td>mse</td>\n",
        "    <td>sigmoid</td>\n",
        "    <td>-</td>\n",
        "    <td>-</td>\n",
        "    <td>-</td>\n",
        "    <td>-</td>\n",
        "  </tr>\n",
        "  <tr align=\"center\">\n",
        "    <td>7</td>\n",
        "    <td>20</td>\n",
        "    <td>2</td>\n",
        "    <td>16</td>\n",
        "    <td>binary_crossentropy</td>\n",
        "    <td>tanh</td>\n",
        "    <td>-</td>\n",
        "    <td>-</td>\n",
        "    <td>-</td>\n",
        "    <td>-</td>\n",
        "  </tr>\n",
        "\n"
      ]
    },
    {
      "cell_type": "markdown",
      "metadata": {
        "id": "xceU7hXLk1l6"
      },
      "source": [
        "# Percobaan 1"
      ]
    },
    {
      "cell_type": "code",
      "metadata": {
        "id": "1wWb9QolkzcB"
      },
      "source": [
        "from keras import models\n",
        "from keras import layers\n",
        "\n",
        "model = models.Sequential()\n",
        "model.add(layers.Dense(16, activation='relu', input_shape=(10000,)))\n",
        "model.add(layers.Dense(16, activation='relu'))\n",
        "model.add(layers.Dense(1, activation='sigmoid'))"
      ],
      "execution_count": 11,
      "outputs": []
    },
    {
      "cell_type": "code",
      "metadata": {
        "id": "Mff5y9fZk7uT"
      },
      "source": [
        "from keras import optimizers\n",
        "model.compile(optimizer=optimizers.RMSprop(lr=0.001),\n",
        "              loss='binary_crossentropy',\n",
        "              metrics=['accuracy'])"
      ],
      "execution_count": 12,
      "outputs": []
    },
    {
      "cell_type": "code",
      "metadata": {
        "colab": {
          "base_uri": "https://localhost:8080/"
        },
        "id": "52Id4Sa-k9mS",
        "outputId": "720f8fb5-e922-44ee-f722-3cfd05550ab9"
      },
      "source": [
        "history_1 = model.fit(partial_x_train,\n",
        "                    partial_y_train,\n",
        "                    epochs=20,\n",
        "                    batch_size=512,\n",
        "                    validation_data=(x_val, y_val))"
      ],
      "execution_count": 13,
      "outputs": [
        {
          "output_type": "stream",
          "text": [
            "Epoch 1/20\n",
            "30/30 [==============================] - 3s 75ms/step - loss: 0.5940 - accuracy: 0.7001 - val_loss: 0.3944 - val_accuracy: 0.8574\n",
            "Epoch 2/20\n",
            "30/30 [==============================] - 1s 37ms/step - loss: 0.3304 - accuracy: 0.8979 - val_loss: 0.3109 - val_accuracy: 0.8850\n",
            "Epoch 3/20\n",
            "30/30 [==============================] - 1s 38ms/step - loss: 0.2336 - accuracy: 0.9291 - val_loss: 0.2828 - val_accuracy: 0.8894\n",
            "Epoch 4/20\n",
            "30/30 [==============================] - 1s 37ms/step - loss: 0.1859 - accuracy: 0.9424 - val_loss: 0.2782 - val_accuracy: 0.8875\n",
            "Epoch 5/20\n",
            "30/30 [==============================] - 1s 38ms/step - loss: 0.1485 - accuracy: 0.9551 - val_loss: 0.2846 - val_accuracy: 0.8857\n",
            "Epoch 6/20\n",
            "30/30 [==============================] - 1s 36ms/step - loss: 0.1234 - accuracy: 0.9651 - val_loss: 0.2894 - val_accuracy: 0.8848\n",
            "Epoch 7/20\n",
            "30/30 [==============================] - 1s 37ms/step - loss: 0.1002 - accuracy: 0.9736 - val_loss: 0.3039 - val_accuracy: 0.8846\n",
            "Epoch 8/20\n",
            "30/30 [==============================] - 1s 37ms/step - loss: 0.0802 - accuracy: 0.9791 - val_loss: 0.3257 - val_accuracy: 0.8819\n",
            "Epoch 9/20\n",
            "30/30 [==============================] - 1s 37ms/step - loss: 0.0672 - accuracy: 0.9846 - val_loss: 0.3624 - val_accuracy: 0.8721\n",
            "Epoch 10/20\n",
            "30/30 [==============================] - 1s 36ms/step - loss: 0.0550 - accuracy: 0.9894 - val_loss: 0.4029 - val_accuracy: 0.8663\n",
            "Epoch 11/20\n",
            "30/30 [==============================] - 1s 36ms/step - loss: 0.0466 - accuracy: 0.9901 - val_loss: 0.4291 - val_accuracy: 0.8746\n",
            "Epoch 12/20\n",
            "30/30 [==============================] - 1s 37ms/step - loss: 0.0391 - accuracy: 0.9927 - val_loss: 0.4486 - val_accuracy: 0.8753\n",
            "Epoch 13/20\n",
            "30/30 [==============================] - 1s 37ms/step - loss: 0.0313 - accuracy: 0.9942 - val_loss: 0.4447 - val_accuracy: 0.8756\n",
            "Epoch 14/20\n",
            "30/30 [==============================] - 1s 36ms/step - loss: 0.0232 - accuracy: 0.9968 - val_loss: 0.4774 - val_accuracy: 0.8709\n",
            "Epoch 15/20\n",
            "30/30 [==============================] - 1s 37ms/step - loss: 0.0168 - accuracy: 0.9986 - val_loss: 0.5086 - val_accuracy: 0.8731\n",
            "Epoch 16/20\n",
            "30/30 [==============================] - 1s 37ms/step - loss: 0.0131 - accuracy: 0.9987 - val_loss: 0.6009 - val_accuracy: 0.8668\n",
            "Epoch 17/20\n",
            "30/30 [==============================] - 1s 36ms/step - loss: 0.0113 - accuracy: 0.9991 - val_loss: 0.5758 - val_accuracy: 0.8676\n",
            "Epoch 18/20\n",
            "30/30 [==============================] - 1s 36ms/step - loss: 0.0063 - accuracy: 0.9995 - val_loss: 0.6106 - val_accuracy: 0.8649\n",
            "Epoch 19/20\n",
            "30/30 [==============================] - 1s 36ms/step - loss: 0.0067 - accuracy: 0.9992 - val_loss: 0.6508 - val_accuracy: 0.8669\n",
            "Epoch 20/20\n",
            "30/30 [==============================] - 1s 36ms/step - loss: 0.0046 - accuracy: 0.9994 - val_loss: 0.6883 - val_accuracy: 0.8665\n"
          ],
          "name": "stdout"
        }
      ]
    },
    {
      "cell_type": "markdown",
      "metadata": {
        "id": "trZZBG42lBME"
      },
      "source": [
        "# Percobaan 2"
      ]
    },
    {
      "cell_type": "code",
      "metadata": {
        "id": "IOZSzXfHlYAA"
      },
      "source": [
        "model = models.Sequential()\n",
        "model.add(layers.Dense(16, activation='relu', input_shape=(10000,)))\n",
        "model.add(layers.Dense(1, activation='sigmoid'))"
      ],
      "execution_count": 14,
      "outputs": []
    },
    {
      "cell_type": "code",
      "metadata": {
        "id": "dWOL7eLrlcab"
      },
      "source": [
        "model.compile(optimizer=optimizers.RMSprop(lr=0.001),\n",
        "              loss='binary_crossentropy',\n",
        "              metrics=['accuracy'])"
      ],
      "execution_count": 15,
      "outputs": []
    },
    {
      "cell_type": "code",
      "metadata": {
        "colab": {
          "base_uri": "https://localhost:8080/"
        },
        "id": "OAtpF1gRldeT",
        "outputId": "eef2f7b0-b0f5-4493-8546-e4de7adfd7b9"
      },
      "source": [
        "history_2 = model.fit(partial_x_train,\n",
        "                    partial_y_train,\n",
        "                    epochs=20,\n",
        "                    batch_size=512,\n",
        "                    validation_data=(x_val, y_val))"
      ],
      "execution_count": 16,
      "outputs": [
        {
          "output_type": "stream",
          "text": [
            "Epoch 1/20\n",
            "30/30 [==============================] - 2s 62ms/step - loss: 0.5934 - accuracy: 0.7325 - val_loss: 0.4139 - val_accuracy: 0.8642\n",
            "Epoch 2/20\n",
            "30/30 [==============================] - 1s 38ms/step - loss: 0.3551 - accuracy: 0.9022 - val_loss: 0.3333 - val_accuracy: 0.8827\n",
            "Epoch 3/20\n",
            "30/30 [==============================] - 1s 38ms/step - loss: 0.2697 - accuracy: 0.9226 - val_loss: 0.3040 - val_accuracy: 0.8847\n",
            "Epoch 4/20\n",
            "30/30 [==============================] - 1s 36ms/step - loss: 0.2202 - accuracy: 0.9365 - val_loss: 0.2915 - val_accuracy: 0.8844\n",
            "Epoch 5/20\n",
            "30/30 [==============================] - 1s 37ms/step - loss: 0.1871 - accuracy: 0.9442 - val_loss: 0.2763 - val_accuracy: 0.8898\n",
            "Epoch 6/20\n",
            "30/30 [==============================] - 1s 37ms/step - loss: 0.1566 - accuracy: 0.9559 - val_loss: 0.2784 - val_accuracy: 0.8890\n",
            "Epoch 7/20\n",
            "30/30 [==============================] - 1s 38ms/step - loss: 0.1392 - accuracy: 0.9599 - val_loss: 0.2864 - val_accuracy: 0.8827\n",
            "Epoch 8/20\n",
            "30/30 [==============================] - 1s 36ms/step - loss: 0.1190 - accuracy: 0.9682 - val_loss: 0.2866 - val_accuracy: 0.8872\n",
            "Epoch 9/20\n",
            "30/30 [==============================] - 1s 36ms/step - loss: 0.1048 - accuracy: 0.9746 - val_loss: 0.2936 - val_accuracy: 0.8864\n",
            "Epoch 10/20\n",
            "30/30 [==============================] - 1s 37ms/step - loss: 0.0901 - accuracy: 0.9783 - val_loss: 0.3112 - val_accuracy: 0.8799\n",
            "Epoch 11/20\n",
            "30/30 [==============================] - 1s 39ms/step - loss: 0.0832 - accuracy: 0.9806 - val_loss: 0.3110 - val_accuracy: 0.8828\n",
            "Epoch 12/20\n",
            "30/30 [==============================] - 1s 36ms/step - loss: 0.0717 - accuracy: 0.9829 - val_loss: 0.3226 - val_accuracy: 0.8840\n",
            "Epoch 13/20\n",
            "30/30 [==============================] - 1s 38ms/step - loss: 0.0638 - accuracy: 0.9869 - val_loss: 0.3373 - val_accuracy: 0.8781\n",
            "Epoch 14/20\n",
            "30/30 [==============================] - 1s 36ms/step - loss: 0.0570 - accuracy: 0.9879 - val_loss: 0.3500 - val_accuracy: 0.8794\n",
            "Epoch 15/20\n",
            "30/30 [==============================] - 1s 37ms/step - loss: 0.0475 - accuracy: 0.9914 - val_loss: 0.3646 - val_accuracy: 0.8787\n",
            "Epoch 16/20\n",
            "30/30 [==============================] - 1s 37ms/step - loss: 0.0439 - accuracy: 0.9932 - val_loss: 0.3992 - val_accuracy: 0.8771\n",
            "Epoch 17/20\n",
            "30/30 [==============================] - 1s 40ms/step - loss: 0.0399 - accuracy: 0.9929 - val_loss: 0.4008 - val_accuracy: 0.8769\n",
            "Epoch 18/20\n",
            "30/30 [==============================] - 1s 37ms/step - loss: 0.0329 - accuracy: 0.9949 - val_loss: 0.4272 - val_accuracy: 0.8758\n",
            "Epoch 19/20\n",
            "30/30 [==============================] - 1s 36ms/step - loss: 0.0297 - accuracy: 0.9956 - val_loss: 0.4346 - val_accuracy: 0.8703\n",
            "Epoch 20/20\n",
            "30/30 [==============================] - 1s 36ms/step - loss: 0.0252 - accuracy: 0.9966 - val_loss: 0.4541 - val_accuracy: 0.8726\n"
          ],
          "name": "stdout"
        }
      ]
    },
    {
      "cell_type": "markdown",
      "metadata": {
        "id": "S2Oej6stlg1a"
      },
      "source": [
        "# Percobaan 3"
      ]
    },
    {
      "cell_type": "code",
      "metadata": {
        "id": "l_U1qS90lomk"
      },
      "source": [
        "model = models.Sequential()\n",
        "model.add(layers.Dense(16, activation='relu', input_shape=(10000,)))\n",
        "model.add(layers.Dense(16, activation='relu'))\n",
        "model.add(layers.Dense(16, activation='relu'))\n",
        "model.add(layers.Dense(1, activation='sigmoid'))"
      ],
      "execution_count": 17,
      "outputs": []
    },
    {
      "cell_type": "code",
      "metadata": {
        "id": "_V1T2oNslrqZ"
      },
      "source": [
        "model.compile(optimizer=optimizers.RMSprop(lr=0.001),\n",
        "              loss='binary_crossentropy',\n",
        "              metrics=['accuracy'])"
      ],
      "execution_count": 18,
      "outputs": []
    },
    {
      "cell_type": "code",
      "metadata": {
        "colab": {
          "base_uri": "https://localhost:8080/"
        },
        "id": "m6q35TuDlrvD",
        "outputId": "1ac18580-a575-4dd7-aafa-52928b777be6"
      },
      "source": [
        "history_3 = model.fit(partial_x_train,\n",
        "                    partial_y_train,\n",
        "                    epochs=20,\n",
        "                    batch_size=512,\n",
        "                    validation_data=(x_val, y_val))"
      ],
      "execution_count": 19,
      "outputs": [
        {
          "output_type": "stream",
          "text": [
            "Epoch 1/20\n",
            "30/30 [==============================] - 2s 46ms/step - loss: 0.6528 - accuracy: 0.6605 - val_loss: 0.4643 - val_accuracy: 0.8478\n",
            "Epoch 2/20\n",
            "30/30 [==============================] - 1s 36ms/step - loss: 0.3918 - accuracy: 0.8865 - val_loss: 0.3235 - val_accuracy: 0.8844\n",
            "Epoch 3/20\n",
            "30/30 [==============================] - 1s 38ms/step - loss: 0.2572 - accuracy: 0.9217 - val_loss: 0.2996 - val_accuracy: 0.8804\n",
            "Epoch 4/20\n",
            "30/30 [==============================] - 1s 36ms/step - loss: 0.1865 - accuracy: 0.9394 - val_loss: 0.2711 - val_accuracy: 0.8903\n",
            "Epoch 5/20\n",
            "30/30 [==============================] - 1s 36ms/step - loss: 0.1506 - accuracy: 0.9545 - val_loss: 0.2905 - val_accuracy: 0.8825\n",
            "Epoch 6/20\n",
            "30/30 [==============================] - 1s 36ms/step - loss: 0.1238 - accuracy: 0.9626 - val_loss: 0.3162 - val_accuracy: 0.8778\n",
            "Epoch 7/20\n",
            "30/30 [==============================] - 1s 36ms/step - loss: 0.1001 - accuracy: 0.9683 - val_loss: 0.3201 - val_accuracy: 0.8820\n",
            "Epoch 8/20\n",
            "30/30 [==============================] - 1s 36ms/step - loss: 0.0772 - accuracy: 0.9793 - val_loss: 0.3365 - val_accuracy: 0.8827\n",
            "Epoch 9/20\n",
            "30/30 [==============================] - 1s 36ms/step - loss: 0.0649 - accuracy: 0.9806 - val_loss: 0.3916 - val_accuracy: 0.8719\n",
            "Epoch 10/20\n",
            "30/30 [==============================] - 1s 37ms/step - loss: 0.0480 - accuracy: 0.9892 - val_loss: 0.4001 - val_accuracy: 0.8780\n",
            "Epoch 11/20\n",
            "30/30 [==============================] - 1s 36ms/step - loss: 0.0358 - accuracy: 0.9936 - val_loss: 0.4355 - val_accuracy: 0.8742\n",
            "Epoch 12/20\n",
            "30/30 [==============================] - 1s 36ms/step - loss: 0.0316 - accuracy: 0.9930 - val_loss: 0.4738 - val_accuracy: 0.8712\n",
            "Epoch 13/20\n",
            "30/30 [==============================] - 1s 35ms/step - loss: 0.0209 - accuracy: 0.9966 - val_loss: 0.4989 - val_accuracy: 0.8751\n",
            "Epoch 14/20\n",
            "30/30 [==============================] - 1s 36ms/step - loss: 0.0150 - accuracy: 0.9979 - val_loss: 0.5463 - val_accuracy: 0.8702\n",
            "Epoch 15/20\n",
            "30/30 [==============================] - 1s 37ms/step - loss: 0.0134 - accuracy: 0.9978 - val_loss: 0.5790 - val_accuracy: 0.8714\n",
            "Epoch 16/20\n",
            "30/30 [==============================] - 1s 36ms/step - loss: 0.0067 - accuracy: 0.9995 - val_loss: 0.6589 - val_accuracy: 0.8614\n",
            "Epoch 17/20\n",
            "30/30 [==============================] - 1s 36ms/step - loss: 0.0073 - accuracy: 0.9985 - val_loss: 0.6608 - val_accuracy: 0.8701\n",
            "Epoch 18/20\n",
            "30/30 [==============================] - 1s 36ms/step - loss: 0.0031 - accuracy: 0.9998 - val_loss: 0.6966 - val_accuracy: 0.8678\n",
            "Epoch 19/20\n",
            "30/30 [==============================] - 1s 36ms/step - loss: 0.0044 - accuracy: 0.9990 - val_loss: 0.7443 - val_accuracy: 0.8677\n",
            "Epoch 20/20\n",
            "30/30 [==============================] - 1s 36ms/step - loss: 0.0015 - accuracy: 0.9999 - val_loss: 0.7713 - val_accuracy: 0.8658\n"
          ],
          "name": "stdout"
        }
      ]
    },
    {
      "cell_type": "markdown",
      "metadata": {
        "id": "VqkPcNW_lvUS"
      },
      "source": [
        "# Percobaan 4"
      ]
    },
    {
      "cell_type": "code",
      "metadata": {
        "id": "Nt3EaP1slx_i"
      },
      "source": [
        "model = models.Sequential()\n",
        "model.add(layers.Dense(32, activation='relu', input_shape=(10000,)))\n",
        "model.add(layers.Dense(32, activation='relu'))\n",
        "model.add(layers.Dense(1, activation='sigmoid'))"
      ],
      "execution_count": 20,
      "outputs": []
    },
    {
      "cell_type": "code",
      "metadata": {
        "id": "dEtnbv0Ol3m6"
      },
      "source": [
        "model.compile(optimizer=optimizers.RMSprop(lr=0.001),\n",
        "              loss='binary_crossentropy',\n",
        "              metrics=['accuracy'])"
      ],
      "execution_count": 21,
      "outputs": []
    },
    {
      "cell_type": "code",
      "metadata": {
        "colab": {
          "base_uri": "https://localhost:8080/"
        },
        "id": "OBE8kytAl5QL",
        "outputId": "5629b818-c604-43a3-db57-95608c3be2e7"
      },
      "source": [
        "history_4 = model.fit(partial_x_train,\n",
        "                    partial_y_train,\n",
        "                    epochs=20,\n",
        "                    batch_size=512,\n",
        "                    validation_data=(x_val, y_val))"
      ],
      "execution_count": 22,
      "outputs": [
        {
          "output_type": "stream",
          "text": [
            "Epoch 1/20\n",
            "30/30 [==============================] - 2s 56ms/step - loss: 0.5598 - accuracy: 0.7335 - val_loss: 0.3462 - val_accuracy: 0.8789\n",
            "Epoch 2/20\n",
            "30/30 [==============================] - 1s 46ms/step - loss: 0.2842 - accuracy: 0.9044 - val_loss: 0.2897 - val_accuracy: 0.8851\n",
            "Epoch 3/20\n",
            "30/30 [==============================] - 1s 44ms/step - loss: 0.1974 - accuracy: 0.9337 - val_loss: 0.2886 - val_accuracy: 0.8815\n",
            "Epoch 4/20\n",
            "30/30 [==============================] - 1s 44ms/step - loss: 0.1482 - accuracy: 0.9535 - val_loss: 0.2827 - val_accuracy: 0.8884\n",
            "Epoch 5/20\n",
            "30/30 [==============================] - 1s 44ms/step - loss: 0.1161 - accuracy: 0.9632 - val_loss: 0.3038 - val_accuracy: 0.8861\n",
            "Epoch 6/20\n",
            "30/30 [==============================] - 1s 48ms/step - loss: 0.0901 - accuracy: 0.9729 - val_loss: 0.3217 - val_accuracy: 0.8850\n",
            "Epoch 7/20\n",
            "30/30 [==============================] - 1s 45ms/step - loss: 0.0739 - accuracy: 0.9799 - val_loss: 0.3423 - val_accuracy: 0.8819\n",
            "Epoch 8/20\n",
            "30/30 [==============================] - 1s 44ms/step - loss: 0.0543 - accuracy: 0.9871 - val_loss: 0.3779 - val_accuracy: 0.8758\n",
            "Epoch 9/20\n",
            "30/30 [==============================] - 1s 44ms/step - loss: 0.0451 - accuracy: 0.9884 - val_loss: 0.4051 - val_accuracy: 0.8767\n",
            "Epoch 10/20\n",
            "30/30 [==============================] - 1s 45ms/step - loss: 0.0340 - accuracy: 0.9923 - val_loss: 0.4398 - val_accuracy: 0.8759\n",
            "Epoch 11/20\n",
            "30/30 [==============================] - 1s 46ms/step - loss: 0.0257 - accuracy: 0.9941 - val_loss: 0.4736 - val_accuracy: 0.8738\n",
            "Epoch 12/20\n",
            "30/30 [==============================] - 1s 44ms/step - loss: 0.0190 - accuracy: 0.9965 - val_loss: 0.5074 - val_accuracy: 0.8732\n",
            "Epoch 13/20\n",
            "30/30 [==============================] - 1s 45ms/step - loss: 0.0099 - accuracy: 0.9995 - val_loss: 0.6837 - val_accuracy: 0.8522\n",
            "Epoch 14/20\n",
            "30/30 [==============================] - 1s 44ms/step - loss: 0.0204 - accuracy: 0.9937 - val_loss: 0.5877 - val_accuracy: 0.8708\n",
            "Epoch 15/20\n",
            "30/30 [==============================] - 1s 44ms/step - loss: 0.0115 - accuracy: 0.9972 - val_loss: 0.6270 - val_accuracy: 0.8706\n",
            "Epoch 16/20\n",
            "30/30 [==============================] - 1s 44ms/step - loss: 0.0032 - accuracy: 0.9999 - val_loss: 0.6663 - val_accuracy: 0.8691\n",
            "Epoch 17/20\n",
            "30/30 [==============================] - 1s 44ms/step - loss: 0.0074 - accuracy: 0.9980 - val_loss: 0.7046 - val_accuracy: 0.8678\n",
            "Epoch 18/20\n",
            "30/30 [==============================] - 1s 44ms/step - loss: 0.0015 - accuracy: 1.0000 - val_loss: 0.7392 - val_accuracy: 0.8657\n",
            "Epoch 19/20\n",
            "30/30 [==============================] - 1s 44ms/step - loss: 0.0011 - accuracy: 1.0000 - val_loss: 0.8588 - val_accuracy: 0.8608\n",
            "Epoch 20/20\n",
            "30/30 [==============================] - 1s 43ms/step - loss: 0.0214 - accuracy: 0.9935 - val_loss: 0.8061 - val_accuracy: 0.8671\n"
          ],
          "name": "stdout"
        }
      ]
    },
    {
      "cell_type": "markdown",
      "metadata": {
        "id": "GMgk-jCql9bD"
      },
      "source": [
        "# Percobaan 5"
      ]
    },
    {
      "cell_type": "code",
      "metadata": {
        "id": "KotGWS1QmFik"
      },
      "source": [
        "model = models.Sequential()\n",
        "model.add(layers.Dense(64, activation='relu', input_shape=(10000,)))\n",
        "model.add(layers.Dense(64, activation='relu'))\n",
        "model.add(layers.Dense(1, activation='sigmoid'))"
      ],
      "execution_count": 23,
      "outputs": []
    },
    {
      "cell_type": "code",
      "metadata": {
        "id": "7SI9ScKGmJpZ"
      },
      "source": [
        "model.compile(optimizer=optimizers.RMSprop(lr=0.001),\n",
        "              loss='binary_crossentropy',\n",
        "              metrics=['accuracy'])"
      ],
      "execution_count": 24,
      "outputs": []
    },
    {
      "cell_type": "code",
      "metadata": {
        "colab": {
          "base_uri": "https://localhost:8080/"
        },
        "id": "CwLfjx2kmK7K",
        "outputId": "1e4605c9-ef16-4b98-b309-9c8eb73980a0"
      },
      "source": [
        "history_5 = model.fit(partial_x_train,\n",
        "                    partial_y_train,\n",
        "                    epochs=20,\n",
        "                    batch_size=512,\n",
        "                    validation_data=(x_val, y_val))"
      ],
      "execution_count": 25,
      "outputs": [
        {
          "output_type": "stream",
          "text": [
            "Epoch 1/20\n",
            "30/30 [==============================] - 3s 71ms/step - loss: 0.5702 - accuracy: 0.6778 - val_loss: 0.4481 - val_accuracy: 0.7965\n",
            "Epoch 2/20\n",
            "30/30 [==============================] - 2s 57ms/step - loss: 0.2824 - accuracy: 0.8913 - val_loss: 0.3060 - val_accuracy: 0.8766\n",
            "Epoch 3/20\n",
            "30/30 [==============================] - 2s 58ms/step - loss: 0.1979 - accuracy: 0.9251 - val_loss: 0.2892 - val_accuracy: 0.8875\n",
            "Epoch 4/20\n",
            "30/30 [==============================] - 2s 58ms/step - loss: 0.1454 - accuracy: 0.9474 - val_loss: 0.2967 - val_accuracy: 0.8875\n",
            "Epoch 5/20\n",
            "30/30 [==============================] - 2s 58ms/step - loss: 0.0979 - accuracy: 0.9706 - val_loss: 0.4409 - val_accuracy: 0.8478\n",
            "Epoch 6/20\n",
            "30/30 [==============================] - 2s 61ms/step - loss: 0.0873 - accuracy: 0.9715 - val_loss: 0.3469 - val_accuracy: 0.8841\n",
            "Epoch 7/20\n",
            "30/30 [==============================] - 2s 61ms/step - loss: 0.0504 - accuracy: 0.9868 - val_loss: 0.3830 - val_accuracy: 0.8790\n",
            "Epoch 8/20\n",
            "30/30 [==============================] - 2s 60ms/step - loss: 0.0364 - accuracy: 0.9915 - val_loss: 0.4323 - val_accuracy: 0.8784\n",
            "Epoch 9/20\n",
            "30/30 [==============================] - 2s 57ms/step - loss: 0.0172 - accuracy: 0.9972 - val_loss: 0.8945 - val_accuracy: 0.8031\n",
            "Epoch 10/20\n",
            "30/30 [==============================] - 2s 56ms/step - loss: 0.0852 - accuracy: 0.9697 - val_loss: 0.5190 - val_accuracy: 0.8732\n",
            "Epoch 11/20\n",
            "30/30 [==============================] - 2s 58ms/step - loss: 0.0209 - accuracy: 0.9945 - val_loss: 0.5357 - val_accuracy: 0.8769\n",
            "Epoch 12/20\n",
            "30/30 [==============================] - 2s 58ms/step - loss: 0.0049 - accuracy: 0.9996 - val_loss: 0.5795 - val_accuracy: 0.8762\n",
            "Epoch 13/20\n",
            "30/30 [==============================] - 2s 58ms/step - loss: 0.0089 - accuracy: 0.9981 - val_loss: 0.6221 - val_accuracy: 0.8718\n",
            "Epoch 14/20\n",
            "30/30 [==============================] - 2s 57ms/step - loss: 0.0020 - accuracy: 1.0000 - val_loss: 0.6545 - val_accuracy: 0.8736\n",
            "Epoch 15/20\n",
            "30/30 [==============================] - 2s 58ms/step - loss: 0.0013 - accuracy: 1.0000 - val_loss: 0.7033 - val_accuracy: 0.8721\n",
            "Epoch 16/20\n",
            "30/30 [==============================] - 2s 57ms/step - loss: 0.0130 - accuracy: 0.9974 - val_loss: 0.7406 - val_accuracy: 0.8714\n",
            "Epoch 17/20\n",
            "30/30 [==============================] - 2s 58ms/step - loss: 6.2199e-04 - accuracy: 1.0000 - val_loss: 0.7720 - val_accuracy: 0.8710\n",
            "Epoch 18/20\n",
            "30/30 [==============================] - 2s 57ms/step - loss: 4.0520e-04 - accuracy: 1.0000 - val_loss: 0.8216 - val_accuracy: 0.8699\n",
            "Epoch 19/20\n",
            "30/30 [==============================] - 2s 57ms/step - loss: 0.0011 - accuracy: 0.9998 - val_loss: 1.1396 - val_accuracy: 0.8412\n",
            "Epoch 20/20\n",
            "30/30 [==============================] - 2s 58ms/step - loss: 0.0020 - accuracy: 0.9997 - val_loss: 0.9252 - val_accuracy: 0.8637\n"
          ],
          "name": "stdout"
        }
      ]
    },
    {
      "cell_type": "markdown",
      "metadata": {
        "id": "N4AGAVH7mNvr"
      },
      "source": [
        "# Percobaan 6"
      ]
    },
    {
      "cell_type": "code",
      "metadata": {
        "id": "MQrf0xAjmM2L"
      },
      "source": [
        "model = models.Sequential()\n",
        "model.add(layers.Dense(16, activation='relu', input_shape=(10000,)))\n",
        "model.add(layers.Dense(16, activation='relu'))\n",
        "model.add(layers.Dense(1, activation='sigmoid'))"
      ],
      "execution_count": 26,
      "outputs": []
    },
    {
      "cell_type": "code",
      "metadata": {
        "id": "yD-sDkfYmZGl"
      },
      "source": [
        "model.compile(optimizer=optimizers.RMSprop(lr=0.001),\n",
        "              loss='mse',\n",
        "              metrics=['accuracy'])"
      ],
      "execution_count": 27,
      "outputs": []
    },
    {
      "cell_type": "code",
      "metadata": {
        "colab": {
          "base_uri": "https://localhost:8080/"
        },
        "id": "bzmExdZUmZ62",
        "outputId": "c334b6a5-c15e-40f3-c9ab-b66899335238"
      },
      "source": [
        "history_6 = model.fit(partial_x_train,\n",
        "                    partial_y_train,\n",
        "                    epochs=20,\n",
        "                    batch_size=512,\n",
        "                    validation_data=(x_val, y_val))"
      ],
      "execution_count": 28,
      "outputs": [
        {
          "output_type": "stream",
          "text": [
            "Epoch 1/20\n",
            "30/30 [==============================] - 2s 49ms/step - loss: 0.1990 - accuracy: 0.7021 - val_loss: 0.1130 - val_accuracy: 0.8700\n",
            "Epoch 2/20\n",
            "30/30 [==============================] - 1s 39ms/step - loss: 0.0917 - accuracy: 0.8986 - val_loss: 0.0989 - val_accuracy: 0.8728\n",
            "Epoch 3/20\n",
            "30/30 [==============================] - 1s 37ms/step - loss: 0.0664 - accuracy: 0.9282 - val_loss: 0.0933 - val_accuracy: 0.8769\n",
            "Epoch 4/20\n",
            "30/30 [==============================] - 1s 39ms/step - loss: 0.0495 - accuracy: 0.9467 - val_loss: 0.0950 - val_accuracy: 0.8710\n",
            "Epoch 5/20\n",
            "30/30 [==============================] - 1s 37ms/step - loss: 0.0420 - accuracy: 0.9564 - val_loss: 0.0921 - val_accuracy: 0.8761\n",
            "Epoch 6/20\n",
            "30/30 [==============================] - 1s 37ms/step - loss: 0.0314 - accuracy: 0.9703 - val_loss: 0.0937 - val_accuracy: 0.8733\n",
            "Epoch 7/20\n",
            "30/30 [==============================] - 1s 37ms/step - loss: 0.0258 - accuracy: 0.9771 - val_loss: 0.0862 - val_accuracy: 0.8822\n",
            "Epoch 8/20\n",
            "30/30 [==============================] - 1s 37ms/step - loss: 0.0213 - accuracy: 0.9812 - val_loss: 0.0956 - val_accuracy: 0.8728\n",
            "Epoch 9/20\n",
            "30/30 [==============================] - 1s 38ms/step - loss: 0.0167 - accuracy: 0.9870 - val_loss: 0.0949 - val_accuracy: 0.8736\n",
            "Epoch 10/20\n",
            "30/30 [==============================] - 1s 37ms/step - loss: 0.0153 - accuracy: 0.9882 - val_loss: 0.0940 - val_accuracy: 0.8757\n",
            "Epoch 11/20\n",
            "30/30 [==============================] - 1s 38ms/step - loss: 0.0114 - accuracy: 0.9909 - val_loss: 0.0954 - val_accuracy: 0.8750\n",
            "Epoch 12/20\n",
            "30/30 [==============================] - 1s 39ms/step - loss: 0.0097 - accuracy: 0.9926 - val_loss: 0.1105 - val_accuracy: 0.8591\n",
            "Epoch 13/20\n",
            "30/30 [==============================] - 1s 38ms/step - loss: 0.0084 - accuracy: 0.9931 - val_loss: 0.1015 - val_accuracy: 0.8717\n",
            "Epoch 14/20\n",
            "30/30 [==============================] - 1s 37ms/step - loss: 0.0081 - accuracy: 0.9938 - val_loss: 0.1009 - val_accuracy: 0.8709\n",
            "Epoch 15/20\n",
            "30/30 [==============================] - 1s 37ms/step - loss: 0.0067 - accuracy: 0.9946 - val_loss: 0.1068 - val_accuracy: 0.8643\n",
            "Epoch 16/20\n",
            "30/30 [==============================] - 1s 40ms/step - loss: 0.0054 - accuracy: 0.9953 - val_loss: 0.1034 - val_accuracy: 0.8711\n",
            "Epoch 17/20\n",
            "30/30 [==============================] - 1s 37ms/step - loss: 0.0040 - accuracy: 0.9967 - val_loss: 0.1054 - val_accuracy: 0.8680\n",
            "Epoch 18/20\n",
            "30/30 [==============================] - 1s 38ms/step - loss: 0.0047 - accuracy: 0.9962 - val_loss: 0.1078 - val_accuracy: 0.8658\n",
            "Epoch 19/20\n",
            "30/30 [==============================] - 1s 39ms/step - loss: 0.0030 - accuracy: 0.9975 - val_loss: 0.1088 - val_accuracy: 0.8668\n",
            "Epoch 20/20\n",
            "30/30 [==============================] - 1s 37ms/step - loss: 0.0032 - accuracy: 0.9973 - val_loss: 0.1110 - val_accuracy: 0.8630\n"
          ],
          "name": "stdout"
        }
      ]
    },
    {
      "cell_type": "markdown",
      "metadata": {
        "id": "_pWU7QyKmdVc"
      },
      "source": [
        "# Percobaan 7"
      ]
    },
    {
      "cell_type": "code",
      "metadata": {
        "id": "TFaMzhJVmfDf"
      },
      "source": [
        "model = models.Sequential()\n",
        "model.add(layers.Dense(16, activation='relu', input_shape=(10000,)))\n",
        "model.add(layers.Dense(16, activation='relu'))\n",
        "model.add(layers.Dense(1, activation='tanh'))"
      ],
      "execution_count": 31,
      "outputs": []
    },
    {
      "cell_type": "code",
      "metadata": {
        "id": "r4mhXKIPmjU9"
      },
      "source": [
        "model.compile(optimizer=optimizers.RMSprop(lr=0.001),\n",
        "              loss='binary_crossentropy',\n",
        "              metrics=['accuracy'])"
      ],
      "execution_count": 32,
      "outputs": []
    },
    {
      "cell_type": "code",
      "metadata": {
        "colab": {
          "base_uri": "https://localhost:8080/"
        },
        "id": "FErI5J2JmlN2",
        "outputId": "a12f3175-ee61-4e52-a337-89df284773f4"
      },
      "source": [
        "history_7 = model.fit(partial_x_train,\n",
        "                    partial_y_train,\n",
        "                    epochs=20,\n",
        "                    batch_size=512,\n",
        "                    validation_data=(x_val, y_val))"
      ],
      "execution_count": 33,
      "outputs": [
        {
          "output_type": "stream",
          "text": [
            "Epoch 1/20\n",
            "30/30 [==============================] - 2s 49ms/step - loss: 1.3993 - accuracy: 0.5814 - val_loss: 0.4186 - val_accuracy: 0.8341\n",
            "Epoch 2/20\n",
            "30/30 [==============================] - 1s 37ms/step - loss: 0.3563 - accuracy: 0.8803 - val_loss: 0.3621 - val_accuracy: 0.8736\n",
            "Epoch 3/20\n",
            "30/30 [==============================] - 1s 39ms/step - loss: 0.2603 - accuracy: 0.9232 - val_loss: 0.4207 - val_accuracy: 0.8841\n",
            "Epoch 4/20\n",
            "30/30 [==============================] - 1s 37ms/step - loss: 0.2037 - accuracy: 0.9369 - val_loss: 0.5867 - val_accuracy: 0.8790\n",
            "Epoch 5/20\n",
            "30/30 [==============================] - 1s 37ms/step - loss: 0.1668 - accuracy: 0.9612 - val_loss: 0.4593 - val_accuracy: 0.8824\n",
            "Epoch 6/20\n",
            "30/30 [==============================] - 1s 37ms/step - loss: 0.1282 - accuracy: 0.9699 - val_loss: 0.7289 - val_accuracy: 0.8744\n",
            "Epoch 7/20\n",
            "30/30 [==============================] - 1s 36ms/step - loss: 0.1121 - accuracy: 0.9787 - val_loss: 0.8009 - val_accuracy: 0.8737\n",
            "Epoch 8/20\n",
            "30/30 [==============================] - 1s 37ms/step - loss: 0.1047 - accuracy: 0.9819 - val_loss: 0.5466 - val_accuracy: 0.8751\n",
            "Epoch 9/20\n",
            "30/30 [==============================] - 1s 36ms/step - loss: 0.0861 - accuracy: 0.9904 - val_loss: 0.6999 - val_accuracy: 0.8741\n",
            "Epoch 10/20\n",
            "30/30 [==============================] - 1s 36ms/step - loss: 0.0743 - accuracy: 0.9921 - val_loss: 0.7218 - val_accuracy: 0.8709\n",
            "Epoch 11/20\n",
            "30/30 [==============================] - 1s 36ms/step - loss: 0.0645 - accuracy: 0.9946 - val_loss: 0.6968 - val_accuracy: 0.8705\n",
            "Epoch 12/20\n",
            "30/30 [==============================] - 1s 38ms/step - loss: 0.0597 - accuracy: 0.9939 - val_loss: 0.6966 - val_accuracy: 0.8680\n",
            "Epoch 13/20\n",
            "30/30 [==============================] - 1s 38ms/step - loss: 0.0564 - accuracy: 0.9936 - val_loss: 1.0846 - val_accuracy: 0.8603\n",
            "Epoch 14/20\n",
            "30/30 [==============================] - 1s 37ms/step - loss: 0.0571 - accuracy: 0.9959 - val_loss: 0.7157 - val_accuracy: 0.8564\n",
            "Epoch 15/20\n",
            "30/30 [==============================] - 1s 38ms/step - loss: 0.0459 - accuracy: 0.9961 - val_loss: 0.7966 - val_accuracy: 0.8608\n",
            "Epoch 16/20\n",
            "30/30 [==============================] - 1s 38ms/step - loss: 0.0478 - accuracy: 0.9966 - val_loss: 0.8313 - val_accuracy: 0.8589\n",
            "Epoch 17/20\n",
            "30/30 [==============================] - 1s 37ms/step - loss: 0.0443 - accuracy: 0.9967 - val_loss: 0.9040 - val_accuracy: 0.8597\n",
            "Epoch 18/20\n",
            "30/30 [==============================] - 1s 36ms/step - loss: 0.0474 - accuracy: 0.9967 - val_loss: 0.8951 - val_accuracy: 0.8552\n",
            "Epoch 19/20\n",
            "30/30 [==============================] - 1s 37ms/step - loss: 0.0403 - accuracy: 0.9974 - val_loss: 0.9550 - val_accuracy: 0.8543\n",
            "Epoch 20/20\n",
            "30/30 [==============================] - 1s 36ms/step - loss: 0.0438 - accuracy: 0.9966 - val_loss: 1.0304 - val_accuracy: 0.8559\n"
          ],
          "name": "stdout"
        }
      ]
    },
    {
      "cell_type": "markdown",
      "metadata": {
        "id": "ACFCLoXXtNpz"
      },
      "source": [
        "# Analisa"
      ]
    },
    {
      "cell_type": "markdown",
      "metadata": {
        "id": "UZm-wC1fm01i"
      },
      "source": [
        "## Comparing the Training and Validation Loss Visualization"
      ]
    },
    {
      "cell_type": "code",
      "metadata": {
        "colab": {
          "base_uri": "https://localhost:8080/",
          "height": 384
        },
        "id": "BDU7Cmobmzod",
        "outputId": "380e96b5-1b46-4773-c590-30dbde4a2362"
      },
      "source": [
        "fig, axes = plt.subplots(ncols=7, figsize=(35,5), sharey=True)\n",
        "\n",
        "plt.sca(axes[0])\n",
        "history_dict = history_1.history\n",
        "loss_values = history_dict['loss']\n",
        "val_loss_values = history_dict['val_loss']\n",
        "acc = history_dict['accuracy']\n",
        "epochs = range(1, len(acc)+1)\n",
        "plt.plot(epochs, loss_values, 'bo', label='Training loss')\n",
        "plt.plot(epochs, val_loss_values, 'b', label='Validation loss')\n",
        "plt.title('Percobaan 1')\n",
        "plt.xlabel('Epochs')\n",
        "plt.ylabel('Loss')\n",
        "plt.legend()\n",
        "\n",
        "plt.sca(axes[1])\n",
        "history_dict = history_2.history\n",
        "loss_values = history_dict['loss']\n",
        "val_loss_values = history_dict['val_loss']\n",
        "acc = history_dict['accuracy']\n",
        "epochs = range(1, len(acc)+1)\n",
        "plt.plot(epochs, loss_values, 'bo', label='Training loss')\n",
        "plt.plot(epochs, val_loss_values, 'b', label='Validation loss')\n",
        "plt.title('Percobaan 2')\n",
        "plt.xlabel('Epochs')\n",
        "plt.legend()\n",
        "\n",
        "plt.sca(axes[2])\n",
        "history_dict = history_3.history\n",
        "loss_values = history_dict['loss']\n",
        "val_loss_values = history_dict['val_loss']\n",
        "acc = history_dict['accuracy']\n",
        "epochs = range(1, len(acc)+1)\n",
        "plt.plot(epochs, loss_values, 'bo', label='Training loss')\n",
        "plt.plot(epochs, val_loss_values, 'b', label='Validation loss')\n",
        "plt.title('Percobaan 3')\n",
        "plt.xlabel('Epochs')\n",
        "plt.legend()\n",
        "\n",
        "plt.sca(axes[3])\n",
        "history_dict = history_4.history\n",
        "loss_values = history_dict['loss']\n",
        "val_loss_values = history_dict['val_loss']\n",
        "acc = history_dict['accuracy']\n",
        "epochs = range(1, len(acc)+1)\n",
        "plt.plot(epochs, loss_values, 'bo', label='Training loss')\n",
        "plt.plot(epochs, val_loss_values, 'b', label='Validation loss')\n",
        "plt.title('Percobaan 4')\n",
        "plt.xlabel('Epochs')\n",
        "plt.legend()\n",
        "\n",
        "plt.sca(axes[4])\n",
        "history_dict = history_5.history\n",
        "loss_values = history_dict['loss']\n",
        "val_loss_values = history_dict['val_loss']\n",
        "acc = history_dict['accuracy']\n",
        "epochs = range(1, len(acc)+1)\n",
        "plt.plot(epochs, loss_values, 'bo', label='Training loss')\n",
        "plt.plot(epochs, val_loss_values, 'b', label='Validation loss')\n",
        "plt.title('Percobaan 5')\n",
        "plt.xlabel('Epochs')\n",
        "plt.legend()\n",
        "\n",
        "plt.sca(axes[5])\n",
        "history_dict = history_6.history\n",
        "loss_values = history_dict['loss']\n",
        "val_loss_values = history_dict['val_loss']\n",
        "acc = history_dict['accuracy']\n",
        "epochs = range(1, len(acc)+1)\n",
        "plt.plot(epochs, loss_values, 'bo', label='Training loss')\n",
        "plt.plot(epochs, val_loss_values, 'b', label='Validation loss')\n",
        "plt.title('Percobaan 6')\n",
        "plt.xlabel('Epochs')\n",
        "plt.legend()\n",
        "\n",
        "plt.sca(axes[6])\n",
        "history_dict = history_7.history\n",
        "loss_values = history_dict['loss']\n",
        "val_loss_values = history_dict['val_loss']\n",
        "acc = history_dict['accuracy']\n",
        "epochs = range(1, len(acc)+1)\n",
        "plt.plot(epochs, loss_values, 'bo', label='Training loss')\n",
        "plt.plot(epochs, val_loss_values, 'b', label='Validation loss')\n",
        "plt.title('Percobaan 7')\n",
        "plt.xlabel('Epochs')\n",
        "plt.legend()"
      ],
      "execution_count": 49,
      "outputs": [
        {
          "output_type": "execute_result",
          "data": {
            "text/plain": [
              "<matplotlib.legend.Legend at 0x7f5179f97dd0>"
            ]
          },
          "metadata": {
            "tags": []
          },
          "execution_count": 49
        },
        {
          "output_type": "display_data",
          "data": {
            "image/png": "[encoded data removed]",
            "text/plain": [
              "<Figure size 2520x360 with 7 Axes>"
            ]
          },
          "metadata": {
            "tags": [],
            "needs_background": "light"
          }
        }
      ]
    },
    {
      "cell_type": "markdown",
      "metadata": {
        "id": "FPLGztrvz9cW"
      },
      "source": [
        "Pada grafik di atas dapat dilihat bahwa perbedaan kurva validation loss lebih mencolok daripada training loss. Terdapat model yang memiliki laju pertambahan validation loss sangat tinggi dan sangat rendah."
      ]
    },
    {
      "cell_type": "markdown",
      "metadata": {
        "id": "paLOU3x-o190"
      },
      "source": [
        "## Comparing the Training and Validation Accuracy Visualization"
      ]
    },
    {
      "cell_type": "code",
      "metadata": {
        "colab": {
          "base_uri": "https://localhost:8080/",
          "height": 384
        },
        "id": "TVO3A6pwo_PF",
        "outputId": "39ffd6d8-d321-45cb-9181-14e806f5be8b"
      },
      "source": [
        "fig, axes = plt.subplots(ncols=7, figsize=(35,5), sharey=True)\n",
        "\n",
        "plt.sca(axes[0])\n",
        "history_dict = history_1.history\n",
        "acc_values = history_dict['accuracy']\n",
        "val_acc_values = history_dict['val_accuracy']\n",
        "plt.plot(epochs, acc_values, 'bo', label='Training accuracy')\n",
        "plt.plot(epochs, val_acc_values, 'b', label='Validation accuracy')\n",
        "plt.title('Percobaan 1')\n",
        "plt.xlabel('Epochs')\n",
        "plt.ylabel('Accuracy')\n",
        "plt.legend()\n",
        "\n",
        "plt.sca(axes[1])\n",
        "history_dict = history_2.history\n",
        "acc_values = history_dict['accuracy']\n",
        "val_acc_values = history_dict['val_accuracy']\n",
        "plt.plot(epochs, acc_values, 'bo', label='Training accuracy')\n",
        "plt.plot(epochs, val_acc_values, 'b', label='Validation accuracy')\n",
        "plt.title('Percobaan 2')\n",
        "plt.xlabel('Epochs')\n",
        "plt.legend()\n",
        "\n",
        "plt.sca(axes[2])\n",
        "history_dict = history_3.history\n",
        "acc_values = history_dict['accuracy']\n",
        "val_acc_values = history_dict['val_accuracy']\n",
        "plt.plot(epochs, acc_values, 'bo', label='Training accuracy')\n",
        "plt.plot(epochs, val_acc_values, 'b', label='Validation accuracy')\n",
        "plt.title('Percobaan 3')\n",
        "plt.xlabel('Epochs')\n",
        "plt.legend()\n",
        "\n",
        "plt.sca(axes[3])\n",
        "history_dict = history_4.history\n",
        "acc_values = history_dict['accuracy']\n",
        "val_acc_values = history_dict['val_accuracy']\n",
        "plt.plot(epochs, acc_values, 'bo', label='Training accuracy')\n",
        "plt.plot(epochs, val_acc_values, 'b', label='Validation accuracy')\n",
        "plt.title('Percobaan 4')\n",
        "plt.xlabel('Epochs')\n",
        "plt.legend()\n",
        "\n",
        "plt.sca(axes[4])\n",
        "history_dict = history_5.history\n",
        "acc_values = history_dict['accuracy']\n",
        "val_acc_values = history_dict['val_accuracy']\n",
        "plt.plot(epochs, acc_values, 'bo', label='Training accuracy')\n",
        "plt.plot(epochs, val_acc_values, 'b', label='Validation accuracy')\n",
        "plt.title('Percobaan 5')\n",
        "plt.xlabel('Epochs')\n",
        "plt.legend()\n",
        "\n",
        "plt.sca(axes[5])\n",
        "history_dict = history_6.history\n",
        "acc_values = history_dict['accuracy']\n",
        "val_acc_values = history_dict['val_accuracy']\n",
        "plt.plot(epochs, acc_values, 'bo', label='Training accuracy')\n",
        "plt.plot(epochs, val_acc_values, 'b', label='Validation accuracy')\n",
        "plt.title('Percobaan 6')\n",
        "plt.xlabel('Epochs')\n",
        "plt.legend()\n",
        "\n",
        "plt.sca(axes[6])\n",
        "history_dict = history_7.history\n",
        "acc_values = history_dict['accuracy']\n",
        "val_acc_values = history_dict['val_accuracy']\n",
        "plt.plot(epochs, acc_values, 'bo', label='Training accuracy')\n",
        "plt.plot(epochs, val_acc_values, 'b', label='Validation accuracy')\n",
        "plt.title('Percobaan 7')\n",
        "plt.xlabel('Epochs')\n",
        "plt.legend()"
      ],
      "execution_count": 48,
      "outputs": [
        {
          "output_type": "execute_result",
          "data": {
            "text/plain": [
              "<matplotlib.legend.Legend at 0x7f517a322350>"
            ]
          },
          "metadata": {
            "tags": []
          },
          "execution_count": 48
        },
        {
          "output_type": "display_data",
          "data": {
            "image/png": "[encoded data removed]",
            "text/plain": [
              "<Figure size 2520x360 with 7 Axes>"
            ]
          },
          "metadata": {
            "tags": [],
            "needs_background": "light"
          }
        }
      ]
    },
    {
      "cell_type": "markdown",
      "metadata": {
        "id": "3jiqMLft0xBw"
      },
      "source": [
        "Berbeda dengan grafik loss, grafik accuracy di atas tidak terlalu jauh perbedaannya satu dengan yang lainnya. Adapun perbedaannya yang tidak terlalu mencolok hanya pada osilasinya."
      ]
    },
    {
      "cell_type": "markdown",
      "metadata": {
        "id": "tnT9d8l4tRf8"
      },
      "source": [
        "<table>\n",
        "  <tr align=\"center\">\n",
        "    <th>Percobaan</th>\n",
        "    <th>Jumlah Epoch</th>\n",
        "    <th>Jumlah Hidden Layer</th>\n",
        "    <th>Jumlah Unit per Hidden Layer</th>\n",
        "    <th>Loss Function</th>\n",
        "    <th>Activation Function</th>\n",
        "    <th>Loss</th>\n",
        "    <th>Accuracy</th>\n",
        "    <th>Val_Loss</th>\n",
        "    <th>Val_Accuracy</th>\n",
        "  </tr>\n",
        "  <tr align=\"center\">\n",
        "    <td>1</td>\n",
        "    <td>20</td>\n",
        "    <td>2</td>\n",
        "    <td>16</td>\n",
        "    <td>binary_crossentropy</td>\n",
        "    <td>sigmoid</td>\n",
        "    <td>0.0046</td>\n",
        "    <td>0.9994</td>\n",
        "    <td>0.6883</td>\n",
        "    <td>0.8665</td>\n",
        "  </tr>\n",
        "  <tr align=\"center\">\n",
        "    <td>2</td>\n",
        "    <td>20</td>\n",
        "    <td>1</td>\n",
        "    <td>16</td>\n",
        "    <td>binary_crossentropy</td>\n",
        "    <td>sigmoid</td>\n",
        "    <td>0.0252</td>\n",
        "    <td>0.9966</td>\n",
        "    <td>0.4541</td>\n",
        "    <td>0.8726</td>\n",
        "  </tr>\n",
        "  <tr align=\"center\">\n",
        "    <td>3</td>\n",
        "    <td>20</td>\n",
        "    <td>3</td>\n",
        "    <td>16</td>\n",
        "    <td>binary_crossentropy</td>\n",
        "    <td>sigmoid</td>\n",
        "    <td>0.0015</td>\n",
        "    <td>0.9999</td>\n",
        "    <td>0.7713</td>\n",
        "    <td>0.8658</td>\n",
        "  </tr>\n",
        "  <tr align=\"center\">\n",
        "    <td>4</td>\n",
        "    <td>20</td>\n",
        "    <td>2</td>\n",
        "    <td>32</td>\n",
        "    <td>binary_crossentropy</td>\n",
        "    <td>sigmoid</td>\n",
        "    <td>0.0214</td>\n",
        "    <td>0.9935</td>\n",
        "    <td>0.8061</td>\n",
        "    <td>0.8671</td>\n",
        "  </tr>\n",
        "  <tr align=\"center\">\n",
        "    <td>5</td>\n",
        "    <td>20</td>\n",
        "    <td>2</td>\n",
        "    <td>64</td>\n",
        "    <td>binary_crossentropy</td>\n",
        "    <td>sigmoid</td>\n",
        "    <td>0.0020</td>\n",
        "    <td>0.9997</td>\n",
        "    <td>0.9252</td>\n",
        "    <td>0.8637</td>\n",
        "  </tr>\n",
        "  <tr align=\"center\">\n",
        "    <td>6</td>\n",
        "    <td>20</td>\n",
        "    <td>2</td>\n",
        "    <td>16</td>\n",
        "    <td>mse</td>\n",
        "    <td>sigmoid</td>\n",
        "    <td>0.0032</td>\n",
        "    <td>0.9973</td>\n",
        "    <td>0.1110</td>\n",
        "    <td>0.8630</td>\n",
        "  </tr>\n",
        "  <tr align=\"center\">\n",
        "    <td>7</td>\n",
        "    <td>20</td>\n",
        "    <td>2</td>\n",
        "    <td>16</td>\n",
        "    <td>binary_crossentropy</td>\n",
        "    <td>tanh</td>\n",
        "    <td>0.0438</td>\n",
        "    <td>0.9966</td>\n",
        "    <td>1.0304</td>\n",
        "    <td>0.8559</td>\n",
        "  </tr>\n",
        "\n"
      ]
    },
    {
      "cell_type": "markdown",
      "metadata": {
        "id": "oAoe1akWyXIG"
      },
      "source": [
        "1. Jika jumlah hidden layer dikurangi, maka selisih loss dan validation loss semakin berkurang. \n",
        "2. Jika jumlah hidden layer ditambah, maka selisih loss dan validaton loss semakin bertambah (semakin overfitting).\n",
        "3. Jika jumlah unit per hidden layer ditambah, maka selisih loss dan validation loss semakin bertambah (semakin overfitting).\n",
        "4. Jika loss function diganti menjadi mse, maka selisih loss dan validation loss akan menurun drastis.\n",
        "5. Jika activation function diganti menjadi tanh, maka selisih loss dan validation loss akan meningkat drastis. "
      ]
    },
    {
      "cell_type": "markdown",
      "metadata": {
        "id": "o5hX71MN1-Ef"
      },
      "source": [
        "# Kesimpulan"
      ]
    },
    {
      "cell_type": "markdown",
      "metadata": {
        "id": "FEk93Zja2Bdl"
      },
      "source": [
        "1. Penambahan hidden layer akan membuat model semakin fit dengan data latih. Jika kita terlalu banyak menetapkan jumlah hidden layer, maka model yang kita buat akan menjadi overfitting.\n",
        "2. Penambahan jumlah unit per hidden layer akan membuat model semakin fit dengan data latih. Jika kita terlalu banyak menetapkan jumlah unit per hidden layer, maka model yang kita buat akan menjadi overfitting.\n",
        "3. Loss Function dan Activation Function sangat mempengaruhi model yang kita buat. Seperti yang dapat kita lihat dalam percobaan tadi, ketika loss function diganti, model yang kita buat berubah drastis.\n"
      ]
    }
  ]
}